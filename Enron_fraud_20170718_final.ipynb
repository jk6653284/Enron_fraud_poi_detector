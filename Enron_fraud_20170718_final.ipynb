{
 "cells": [
  {
   "cell_type": "markdown",
   "metadata": {},
   "source": [
    "# 1. Project introduction"
   ]
  },
  {
   "cell_type": "markdown",
   "metadata": {},
   "source": [
    "## Background on Enron fraud\n",
    "The enron scandal was the single biggest financial in the history of American economy. The company, which at its peak had a share worth \\$90.75, declared bankruptcy on Decembmer 2001, plummeting the value to \\$0.67 by January the next year. Numerous executives and accountants were prosecuted, including the founder and former CEO Kenneth Lay. Many more suffered from the collapse, losing jobs and large sums of money.\n",
    "\n",
    "## Goal of project\n",
    "The goal of this project is to identify persons of interst (those convicted, indicted, or have testified in the court) with publicly available financial and email data, using machine learning.\n"
   ]
  },
  {
   "cell_type": "markdown",
   "metadata": {},
   "source": [
    "# 2. Exploratory Data Analysis"
   ]
  },
  {
   "cell_type": "markdown",
   "metadata": {},
   "source": [
    "## Data Preparation"
   ]
  },
  {
   "cell_type": "code",
   "execution_count": 1,
   "metadata": {
    "collapsed": false
   },
   "outputs": [],
   "source": [
    "# import necessary modules\n",
    "# other modules will be called when needed\n",
    "\n",
    "import numpy as np # for numerical computations\n",
    "import matplotlib.pyplot as plt # for graphing\n",
    "import seaborn as sns # for extra plots such as heatmap\n",
    "import pickle # for loading and dumping pickle dataset files\n",
    "import pandas as pd # for easy exploratory data analysis in dataframe format\n",
    "from time import time # to measure ML process time\n",
    "import sys\n",
    "sys.path.append('ud120-projects/tools')\n",
    "from feature_format import featureFormat, targetFeatureSplit\n",
    "# for transforming dictionary to np arrays and split between\n",
    "# target and predictors"
   ]
  },
  {
   "cell_type": "code",
   "execution_count": 2,
   "metadata": {
    "collapsed": false
   },
   "outputs": [
    {
     "name": "stdout",
     "output_type": "stream",
     "text": [
      "dict_keys(['METTS MARK', 'BAXTER JOHN C', 'ELLIOTT STEVEN', 'CORDES WILLIAM R', 'HANNON KEVIN P', 'MORDAUNT KRISTINA M', 'MEYER ROCKFORD G', 'MCMAHON JEFFREY', 'HAEDICKE MARK E', 'PIPER GREGORY F', 'HUMPHREY GENE E', 'NOLES JAMES L', 'BLACHMAN JEREMY M', 'SUNDE MARTIN', 'GIBBS DANA R', 'LOWRY CHARLES P', 'COLWELL WESLEY', 'MULLER MARK S', 'JACKSON CHARLENE R', 'WESTFAHL RICHARD K', 'WALTERS GARETH W', 'WALLS JR ROBERT H', 'KITCHEN LOUISE', 'CHAN RONNIE', 'BELFER ROBERT', 'SHANKMAN JEFFREY A', 'WODRASKA JOHN', 'BERGSIEKER RICHARD P', 'URQUHART JOHN A', 'BIBI PHILIPPE A', 'RIEKER PAULA H', 'WHALEY DAVID A', 'BECK SALLY W', 'HAUG DAVID L', 'ECHOLS JOHN B', 'MENDELSOHN JOHN', 'HICKERSON GARY J', 'CLINE KENNETH W', 'LEWIS RICHARD', 'HAYES ROBERT E', 'KOPPER MICHAEL J', 'LEFF DANIEL P', 'LAVORATO JOHN J', 'BERBERIAN DAVID', 'DETMERING TIMOTHY J', 'WAKEHAM JOHN', 'POWERS WILLIAM', 'GOLD JOSEPH', 'BANNANTINE JAMES M', 'DUNCAN JOHN H', 'SHAPIRO RICHARD S', 'SHERRIFF JOHN R', 'SHELBY REX', 'LEMAISTRE CHARLES', 'DEFFNER JOSEPH M', 'KISHKILL JOSEPH G', 'WHALLEY LAWRENCE G', 'MCCONNELL MICHAEL S', 'PIRO JIM', 'DELAINEY DAVID W', 'SULLIVAN-SHAKLOVITZ COLLEEN', 'WROBEL BRUCE', 'LINDHOLM TOD A', 'MEYER JEROME J', 'LAY KENNETH L', 'BUTTS ROBERT H', 'OLSON CINDY K', 'MCDONALD REBECCA', 'CUMBERLAND MICHAEL S', 'GAHN ROBERT S', 'BADUM JAMES P', 'HERMANN ROBERT J', 'FALLON JAMES B', 'GATHMANN WILLIAM D', 'HORTON STANLEY C', 'BOWEN JR RAYMOND M', 'GILLIS JOHN', 'FITZGERALD JAY L', 'MORAN MICHAEL P', 'REDMOND BRIAN L', 'BAZELIDES PHILIP J', 'BELDEN TIMOTHY N', 'DIMICHELE RICHARD G', 'DURAN WILLIAM D', 'THORN TERENCE H', 'FASTOW ANDREW S', 'FOY JOE', 'CALGER CHRISTOPHER F', 'RICE KENNETH D', 'KAMINSKI WINCENTY J', 'LOCKHART EUGENE E', 'COX DAVID', 'OVERDYKE JR JERE C', 'PEREIRA PAULO V. FERRAZ', 'STABLER FRANK', 'SKILLING JEFFREY K', 'BLAKE JR. NORMAN P', 'SHERRICK JEFFREY B', 'PRENTICE JAMES', 'GRAY RODNEY', 'THE TRAVEL AGENCY IN THE PARK', 'UMANOFF ADAM S', 'KEAN STEVEN J', 'TOTAL', 'FOWLER PEGGY', 'WASAFF GEORGE', 'WHITE JR THOMAS E', 'CHRISTODOULOU DIOMEDES', 'ALLEN PHILLIP K', 'SHARP VICTORIA T', 'JAEDICKE ROBERT', 'WINOKUR JR. HERBERT S', 'BROWN MICHAEL', 'MCCLELLAN GEORGE', 'HUGHES JAMES A', 'REYNOLDS LAWRENCE', 'PICKERING MARK R', 'BHATNAGAR SANJAY', 'CARTER REBECCA C', 'BUCHANAN HAROLD G', 'YEAP SOON', 'MURRAY JULIA H', 'GARLAND C KEVIN', 'DODSON KEITH', 'YEAGER F SCOTT', 'HIRKO JOSEPH', 'DIETRICH JANET R', 'DERRICK JR. JAMES V', 'FREVERT MARK A', 'PAI LOU L', 'HAYSLETT RODERICK J', 'BAY FRANKLIN R', 'MCCARTY DANNY J', 'FUGH JOHN L', 'SCRIMSHAW MATTHEW', 'KOENIG MARK E', 'SAVAGE FRANK', 'IZZO LAWRENCE L', 'TILNEY ELIZABETH A', 'MARTIN AMANDA K', 'BUY RICHARD B', 'GRAMM WENDY L', 'CAUSEY RICHARD A', 'TAYLOR MITCHELL S', 'DONAHUE JR JEFFREY M', 'GLISAN JR BEN F'])\n",
      "\n",
      " {'salary': 365788, 'to_messages': 807, 'deferral_payments': 'NaN', 'total_payments': 1061827, 'loan_advances': 'NaN', 'bonus': 600000, 'email_address': 'mark.metts@enron.com', 'restricted_stock_deferred': 'NaN', 'deferred_income': 'NaN', 'total_stock_value': 585062, 'expenses': 94299, 'from_poi_to_this_person': 38, 'exercised_stock_options': 'NaN', 'from_messages': 29, 'other': 1740, 'from_this_person_to_poi': 1, 'poi': False, 'long_term_incentive': 'NaN', 'shared_receipt_with_poi': 702, 'restricted_stock': 585062, 'director_fees': 'NaN'}\n",
      "\n",
      "There are 146 observation in the dataset.\n",
      "\n",
      "There are 18 pois in the dataset.\n",
      "\n",
      "There are 128 non-pois in the dataset.\n",
      "\n",
      "There are 20 predictor variables and 1 target variable in the dataset.\n"
     ]
    }
   ],
   "source": [
    "# import dataset as a dictionary\n",
    "data_dict = pickle.load(open('ud120-projects/final_project/final_project_dataset.pkl', 'rb'))\n",
    "\n",
    "# look at the keys\n",
    "print(data_dict.keys())\n",
    "\n",
    "# look at one entry as an example to see the general format\n",
    "print('\\n',data_dict['METTS MARK'])\n",
    "\n",
    "# number of observations\n",
    "print('\\nThere are {} observation in the dataset.'.format(len(data_dict)))\n",
    "\n",
    "# number of pois(target)\n",
    "count = 0\n",
    "for i in data_dict:\n",
    "    if data_dict[i]['poi']:\n",
    "        count += 1\n",
    "print('\\nThere are {} pois in the dataset.'.format(count))\n",
    "\n",
    "# number of non-pois\n",
    "print('\\nThere are {} non-pois in the dataset.'.format(len(data_dict) - count))\n",
    "\n",
    "# number of variables\n",
    "print('\\nThere are {} predictor variables and 1 target variable in the dataset.'.format(len(data_dict['METTS MARK'])-1))"
   ]
  },
  {
   "cell_type": "code",
   "execution_count": 6,
   "metadata": {
    "collapsed": false
   },
   "outputs": [
    {
     "data": {
      "text/plain": [
       "{'bonus': 'NaN',\n",
       " 'deferral_payments': 'NaN',\n",
       " 'deferred_income': 'NaN',\n",
       " 'director_fees': 'NaN',\n",
       " 'email_address': 'NaN',\n",
       " 'exercised_stock_options': 'NaN',\n",
       " 'expenses': 'NaN',\n",
       " 'from_messages': 'NaN',\n",
       " 'from_poi_to_this_person': 'NaN',\n",
       " 'from_this_person_to_poi': 'NaN',\n",
       " 'loan_advances': 'NaN',\n",
       " 'long_term_incentive': 'NaN',\n",
       " 'other': 362096,\n",
       " 'poi': False,\n",
       " 'restricted_stock': 'NaN',\n",
       " 'restricted_stock_deferred': 'NaN',\n",
       " 'salary': 'NaN',\n",
       " 'shared_receipt_with_poi': 'NaN',\n",
       " 'to_messages': 'NaN',\n",
       " 'total_payments': 362096,\n",
       " 'total_stock_value': 'NaN'}"
      ]
     },
     "execution_count": 6,
     "metadata": {},
     "output_type": "execute_result"
    }
   ],
   "source": [
    "# there is a weird entry called 'THE TRAVEL AGENCY IN THE PARK'\n",
    "# let's check what this entry is\n",
    "\n",
    "data_dict['THE TRAVEL AGENCY IN THE PARK']"
   ]
  },
  {
   "cell_type": "code",
   "execution_count": 7,
   "metadata": {
    "collapsed": false
   },
   "outputs": [
    {
     "data": {
      "text/plain": [
       "{'bonus': 'NaN',\n",
       " 'deferral_payments': 'NaN',\n",
       " 'deferred_income': 'NaN',\n",
       " 'director_fees': 'NaN',\n",
       " 'email_address': 'NaN',\n",
       " 'exercised_stock_options': 'NaN',\n",
       " 'expenses': 'NaN',\n",
       " 'from_messages': 'NaN',\n",
       " 'from_poi_to_this_person': 'NaN',\n",
       " 'from_this_person_to_poi': 'NaN',\n",
       " 'loan_advances': 'NaN',\n",
       " 'long_term_incentive': 'NaN',\n",
       " 'other': 362096,\n",
       " 'poi': False,\n",
       " 'restricted_stock': 'NaN',\n",
       " 'restricted_stock_deferred': 'NaN',\n",
       " 'salary': 'NaN',\n",
       " 'shared_receipt_with_poi': 'NaN',\n",
       " 'to_messages': 'NaN',\n",
       " 'total_payments': 362096,\n",
       " 'total_stock_value': 'NaN'}"
      ]
     },
     "execution_count": 7,
     "metadata": {},
     "output_type": "execute_result"
    }
   ],
   "source": [
    "# This entry only has other and total_payments value\n",
    "# the enron insider payment pdf states that this is payment\n",
    "# made to an agency by employees for business travels\n",
    "# let's get rid of this entry\n",
    "\n",
    "data_dict.pop('THE TRAVEL AGENCY IN THE PARK')"
   ]
  },
  {
   "cell_type": "code",
   "execution_count": 4,
   "metadata": {
    "collapsed": false
   },
   "outputs": [
    {
     "data": {
      "text/plain": [
       "{'bonus': 'NaN',\n",
       " 'deferral_payments': 'NaN',\n",
       " 'deferred_income': 'NaN',\n",
       " 'director_fees': 'NaN',\n",
       " 'email_address': 'NaN',\n",
       " 'exercised_stock_options': 'NaN',\n",
       " 'expenses': 'NaN',\n",
       " 'from_messages': 'NaN',\n",
       " 'from_poi_to_this_person': 'NaN',\n",
       " 'from_this_person_to_poi': 'NaN',\n",
       " 'loan_advances': 'NaN',\n",
       " 'long_term_incentive': 'NaN',\n",
       " 'other': 'NaN',\n",
       " 'poi': False,\n",
       " 'restricted_stock': 'NaN',\n",
       " 'restricted_stock_deferred': 'NaN',\n",
       " 'salary': 'NaN',\n",
       " 'shared_receipt_with_poi': 'NaN',\n",
       " 'to_messages': 'NaN',\n",
       " 'total_payments': 'NaN',\n",
       " 'total_stock_value': 'NaN'}"
      ]
     },
     "execution_count": 4,
     "metadata": {},
     "output_type": "execute_result"
    }
   ],
   "source": [
    "# There is also another entry that doesn't add value to the data\n",
    "# as there are only NaN values for all the variables.\n",
    "# It does have the target variable filled in,\n",
    "# but without any predictive variables, this is not of big use.\n",
    "# Let's get rid of this peron\n",
    "\n",
    "data_dict.pop('LOCKHART EUGENE E')"
   ]
  },
  {
   "cell_type": "code",
   "execution_count": 9,
   "metadata": {
    "collapsed": false
   },
   "outputs": [
    {
     "name": "stdout",
     "output_type": "stream",
     "text": [
      "There are 144 observations left in the dataset.\n"
     ]
    }
   ],
   "source": [
    "# This should lead to only 144 observations in the dataset\n",
    "\n",
    "print('There are {} observations left in the dataset.'.format(len(data_dict)))"
   ]
  },
  {
   "cell_type": "markdown",
   "metadata": {},
   "source": [
    "## Exploratory data analysis"
   ]
  },
  {
   "cell_type": "code",
   "execution_count": 10,
   "metadata": {
    "collapsed": false
   },
   "outputs": [
    {
     "data": {
      "text/html": [
       "<div>\n",
       "<table border=\"1\" class=\"dataframe\">\n",
       "  <thead>\n",
       "    <tr style=\"text-align: right;\">\n",
       "      <th></th>\n",
       "      <th>bonus</th>\n",
       "      <th>deferral_payments</th>\n",
       "      <th>deferred_income</th>\n",
       "      <th>director_fees</th>\n",
       "      <th>exercised_stock_options</th>\n",
       "      <th>expenses</th>\n",
       "      <th>from_messages</th>\n",
       "      <th>from_poi_to_this_person</th>\n",
       "      <th>from_this_person_to_poi</th>\n",
       "      <th>loan_advances</th>\n",
       "      <th>long_term_incentive</th>\n",
       "      <th>other</th>\n",
       "      <th>restricted_stock</th>\n",
       "      <th>restricted_stock_deferred</th>\n",
       "      <th>salary</th>\n",
       "      <th>shared_receipt_with_poi</th>\n",
       "      <th>to_messages</th>\n",
       "      <th>total_payments</th>\n",
       "      <th>total_stock_value</th>\n",
       "    </tr>\n",
       "  </thead>\n",
       "  <tbody>\n",
       "    <tr>\n",
       "      <th>ALLEN PHILLIP K</th>\n",
       "      <td>4175000.0</td>\n",
       "      <td>2869717.0</td>\n",
       "      <td>-3081055.0</td>\n",
       "      <td>NaN</td>\n",
       "      <td>1729541.0</td>\n",
       "      <td>13868.0</td>\n",
       "      <td>2195.0</td>\n",
       "      <td>47.0</td>\n",
       "      <td>65.0</td>\n",
       "      <td>NaN</td>\n",
       "      <td>304805.0</td>\n",
       "      <td>152.0</td>\n",
       "      <td>126027.0</td>\n",
       "      <td>-126027.0</td>\n",
       "      <td>201955.0</td>\n",
       "      <td>1407.0</td>\n",
       "      <td>2902.0</td>\n",
       "      <td>4484442.0</td>\n",
       "      <td>1729541.0</td>\n",
       "    </tr>\n",
       "    <tr>\n",
       "      <th>BADUM JAMES P</th>\n",
       "      <td>NaN</td>\n",
       "      <td>178980.0</td>\n",
       "      <td>NaN</td>\n",
       "      <td>NaN</td>\n",
       "      <td>257817.0</td>\n",
       "      <td>3486.0</td>\n",
       "      <td>NaN</td>\n",
       "      <td>NaN</td>\n",
       "      <td>NaN</td>\n",
       "      <td>NaN</td>\n",
       "      <td>NaN</td>\n",
       "      <td>NaN</td>\n",
       "      <td>NaN</td>\n",
       "      <td>NaN</td>\n",
       "      <td>NaN</td>\n",
       "      <td>NaN</td>\n",
       "      <td>NaN</td>\n",
       "      <td>182466.0</td>\n",
       "      <td>257817.0</td>\n",
       "    </tr>\n",
       "    <tr>\n",
       "      <th>BANNANTINE JAMES M</th>\n",
       "      <td>NaN</td>\n",
       "      <td>NaN</td>\n",
       "      <td>-5104.0</td>\n",
       "      <td>NaN</td>\n",
       "      <td>4046157.0</td>\n",
       "      <td>56301.0</td>\n",
       "      <td>29.0</td>\n",
       "      <td>39.0</td>\n",
       "      <td>0.0</td>\n",
       "      <td>NaN</td>\n",
       "      <td>NaN</td>\n",
       "      <td>864523.0</td>\n",
       "      <td>1757552.0</td>\n",
       "      <td>-560222.0</td>\n",
       "      <td>477.0</td>\n",
       "      <td>465.0</td>\n",
       "      <td>566.0</td>\n",
       "      <td>916197.0</td>\n",
       "      <td>5243487.0</td>\n",
       "    </tr>\n",
       "    <tr>\n",
       "      <th>BAXTER JOHN C</th>\n",
       "      <td>1200000.0</td>\n",
       "      <td>1295738.0</td>\n",
       "      <td>-1386055.0</td>\n",
       "      <td>NaN</td>\n",
       "      <td>6680544.0</td>\n",
       "      <td>11200.0</td>\n",
       "      <td>NaN</td>\n",
       "      <td>NaN</td>\n",
       "      <td>NaN</td>\n",
       "      <td>NaN</td>\n",
       "      <td>1586055.0</td>\n",
       "      <td>2660303.0</td>\n",
       "      <td>3942714.0</td>\n",
       "      <td>NaN</td>\n",
       "      <td>267102.0</td>\n",
       "      <td>NaN</td>\n",
       "      <td>NaN</td>\n",
       "      <td>5634343.0</td>\n",
       "      <td>10623258.0</td>\n",
       "    </tr>\n",
       "    <tr>\n",
       "      <th>BAY FRANKLIN R</th>\n",
       "      <td>400000.0</td>\n",
       "      <td>260455.0</td>\n",
       "      <td>-201641.0</td>\n",
       "      <td>NaN</td>\n",
       "      <td>NaN</td>\n",
       "      <td>129142.0</td>\n",
       "      <td>NaN</td>\n",
       "      <td>NaN</td>\n",
       "      <td>NaN</td>\n",
       "      <td>NaN</td>\n",
       "      <td>NaN</td>\n",
       "      <td>69.0</td>\n",
       "      <td>145796.0</td>\n",
       "      <td>-82782.0</td>\n",
       "      <td>239671.0</td>\n",
       "      <td>NaN</td>\n",
       "      <td>NaN</td>\n",
       "      <td>827696.0</td>\n",
       "      <td>63014.0</td>\n",
       "    </tr>\n",
       "  </tbody>\n",
       "</table>\n",
       "</div>"
      ],
      "text/plain": [
       "                        bonus  deferral_payments  deferred_income  \\\n",
       "ALLEN PHILLIP K     4175000.0          2869717.0       -3081055.0   \n",
       "BADUM JAMES P             NaN           178980.0              NaN   \n",
       "BANNANTINE JAMES M        NaN                NaN          -5104.0   \n",
       "BAXTER JOHN C       1200000.0          1295738.0       -1386055.0   \n",
       "BAY FRANKLIN R       400000.0           260455.0        -201641.0   \n",
       "\n",
       "                    director_fees  exercised_stock_options  expenses  \\\n",
       "ALLEN PHILLIP K               NaN                1729541.0   13868.0   \n",
       "BADUM JAMES P                 NaN                 257817.0    3486.0   \n",
       "BANNANTINE JAMES M            NaN                4046157.0   56301.0   \n",
       "BAXTER JOHN C                 NaN                6680544.0   11200.0   \n",
       "BAY FRANKLIN R                NaN                      NaN  129142.0   \n",
       "\n",
       "                    from_messages  from_poi_to_this_person  \\\n",
       "ALLEN PHILLIP K            2195.0                     47.0   \n",
       "BADUM JAMES P                 NaN                      NaN   \n",
       "BANNANTINE JAMES M           29.0                     39.0   \n",
       "BAXTER JOHN C                 NaN                      NaN   \n",
       "BAY FRANKLIN R                NaN                      NaN   \n",
       "\n",
       "                    from_this_person_to_poi  loan_advances  \\\n",
       "ALLEN PHILLIP K                        65.0            NaN   \n",
       "BADUM JAMES P                           NaN            NaN   \n",
       "BANNANTINE JAMES M                      0.0            NaN   \n",
       "BAXTER JOHN C                           NaN            NaN   \n",
       "BAY FRANKLIN R                          NaN            NaN   \n",
       "\n",
       "                    long_term_incentive      other  restricted_stock  \\\n",
       "ALLEN PHILLIP K                304805.0      152.0          126027.0   \n",
       "BADUM JAMES P                       NaN        NaN               NaN   \n",
       "BANNANTINE JAMES M                  NaN   864523.0         1757552.0   \n",
       "BAXTER JOHN C                 1586055.0  2660303.0         3942714.0   \n",
       "BAY FRANKLIN R                      NaN       69.0          145796.0   \n",
       "\n",
       "                    restricted_stock_deferred    salary  \\\n",
       "ALLEN PHILLIP K                     -126027.0  201955.0   \n",
       "BADUM JAMES P                             NaN       NaN   \n",
       "BANNANTINE JAMES M                  -560222.0     477.0   \n",
       "BAXTER JOHN C                             NaN  267102.0   \n",
       "BAY FRANKLIN R                       -82782.0  239671.0   \n",
       "\n",
       "                    shared_receipt_with_poi  to_messages  total_payments  \\\n",
       "ALLEN PHILLIP K                      1407.0       2902.0       4484442.0   \n",
       "BADUM JAMES P                           NaN          NaN        182466.0   \n",
       "BANNANTINE JAMES M                    465.0        566.0        916197.0   \n",
       "BAXTER JOHN C                           NaN          NaN       5634343.0   \n",
       "BAY FRANKLIN R                          NaN          NaN        827696.0   \n",
       "\n",
       "                    total_stock_value  \n",
       "ALLEN PHILLIP K             1729541.0  \n",
       "BADUM JAMES P                257817.0  \n",
       "BANNANTINE JAMES M          5243487.0  \n",
       "BAXTER JOHN C              10623258.0  \n",
       "BAY FRANKLIN R                63014.0  "
      ]
     },
     "execution_count": 10,
     "metadata": {},
     "output_type": "execute_result"
    }
   ],
   "source": [
    "# convert data_dict to pandas dataframe for easy exploratory analysis\n",
    "data_df = pd.DataFrame(data_dict).transpose()\n",
    "\n",
    "# get rid of 'email_address' and 'poi' variables for this dataframe\n",
    "# as they are not needed for exploratory analysis\n",
    "\n",
    "# reference: https://chrisalbon.com/python/pandas_dropping_column_and_rows.html\n",
    "data_df.drop(['email_address', 'poi'], axis = 1, inplace = True)\n",
    "\n",
    "# convert all 'NaN' string values to np.NaN values\n",
    "for i in data_df:\n",
    "    for j in range(len(data_df)):\n",
    "        if data_df[i][j] == 'NaN':\n",
    "            data_df[i][j] = np.NaN\n",
    "            \n",
    "# convert all values to float values for numerical computations\n",
    "data_df = data_df.astype(np.float)\n",
    "            \n",
    "# check the dataframe\n",
    "data_df.head()"
   ]
  },
  {
   "cell_type": "code",
   "execution_count": 11,
   "metadata": {
    "collapsed": false
   },
   "outputs": [
    {
     "name": "stdout",
     "output_type": "stream",
     "text": [
      "<class 'pandas.core.frame.DataFrame'>\n",
      "Index: 144 entries, ALLEN PHILLIP K to YEAP SOON\n",
      "Data columns (total 19 columns):\n",
      "bonus                        82 non-null float64\n",
      "deferral_payments            39 non-null float64\n",
      "deferred_income              49 non-null float64\n",
      "director_fees                17 non-null float64\n",
      "exercised_stock_options      102 non-null float64\n",
      "expenses                     95 non-null float64\n",
      "from_messages                86 non-null float64\n",
      "from_poi_to_this_person      86 non-null float64\n",
      "from_this_person_to_poi      86 non-null float64\n",
      "loan_advances                4 non-null float64\n",
      "long_term_incentive          66 non-null float64\n",
      "other                        92 non-null float64\n",
      "restricted_stock             110 non-null float64\n",
      "restricted_stock_deferred    18 non-null float64\n",
      "salary                       95 non-null float64\n",
      "shared_receipt_with_poi      86 non-null float64\n",
      "to_messages                  86 non-null float64\n",
      "total_payments               124 non-null float64\n",
      "total_stock_value            126 non-null float64\n",
      "dtypes: float64(19)\n",
      "memory usage: 22.5+ KB\n"
     ]
    }
   ],
   "source": [
    "# check for null values for each variable\n",
    "data_df.info()\n",
    "\n",
    "# there are a lot of missing values\n",
    "# in the case of loan_advances, there are only 4 entries\n",
    "# with a valid value\n",
    "# this will surely affect machine learning process and results"
   ]
  },
  {
   "cell_type": "code",
   "execution_count": 12,
   "metadata": {
    "collapsed": false
   },
   "outputs": [
    {
     "data": {
      "image/png": "[encoded data removed]",
      "text/plain": [
       "<matplotlib.figure.Figure at 0x10d8c0630>"
      ]
     },
     "metadata": {},
     "output_type": "display_data"
    }
   ],
   "source": [
    "# I wanted to see some relevant realtionships among variables,\n",
    "# but the scatterplot matrix was a little overcrowded with 20 variables\n",
    "# instead, I used the heatmap to visualize the relationships\n",
    "\n",
    "# reference: http://seaborn.pydata.org/examples/network_correlations.html\n",
    "# reference: http://seaborn.pydata.org/generated/seaborn.heatmap.html\n",
    "\n",
    "# calculate correlation\n",
    "data_df_corr = data_df.corr()\n",
    "\n",
    "# create mask\n",
    "mask = np.zeros_like(data_df_corr, dtype = np.bool)\n",
    "mask[np.triu_indices_from(mask)] = True\n",
    "\n",
    "# draw heatmap\n",
    "sns.heatmap(data_df_corr, cmap = 'RdBu_r', mask = mask, alpha = 0.7)\n",
    "plt.show()"
   ]
  },
  {
   "cell_type": "code",
   "execution_count": 13,
   "metadata": {
    "collapsed": false
   },
   "outputs": [
    {
     "data": {
      "image/png": "[encoded data removed]",
      "text/plain": [
       "<matplotlib.figure.Figure at 0x10d8c0208>"
      ]
     },
     "metadata": {},
     "output_type": "display_data"
    }
   ],
   "source": [
    "# it seems that most financial variables are highly correlated with one another\n",
    "# let's pick one relationship to explore it further\n",
    "\n",
    "plt.scatter(data = data_df, x = 'salary', y = 'bonus')\n",
    "plt.show()"
   ]
  },
  {
   "cell_type": "code",
   "execution_count": 14,
   "metadata": {
    "collapsed": false
   },
   "outputs": [
    {
     "data": {
      "text/html": [
       "<div>\n",
       "<table border=\"1\" class=\"dataframe\">\n",
       "  <thead>\n",
       "    <tr style=\"text-align: right;\">\n",
       "      <th></th>\n",
       "      <th>bonus</th>\n",
       "      <th>deferral_payments</th>\n",
       "      <th>deferred_income</th>\n",
       "      <th>director_fees</th>\n",
       "      <th>exercised_stock_options</th>\n",
       "      <th>expenses</th>\n",
       "      <th>from_messages</th>\n",
       "      <th>from_poi_to_this_person</th>\n",
       "      <th>from_this_person_to_poi</th>\n",
       "      <th>loan_advances</th>\n",
       "      <th>long_term_incentive</th>\n",
       "      <th>other</th>\n",
       "      <th>restricted_stock</th>\n",
       "      <th>restricted_stock_deferred</th>\n",
       "      <th>salary</th>\n",
       "      <th>shared_receipt_with_poi</th>\n",
       "      <th>to_messages</th>\n",
       "      <th>total_payments</th>\n",
       "      <th>total_stock_value</th>\n",
       "    </tr>\n",
       "  </thead>\n",
       "  <tbody>\n",
       "    <tr>\n",
       "      <th>TOTAL</th>\n",
       "      <td>97343619.0</td>\n",
       "      <td>32083396.0</td>\n",
       "      <td>-27992891.0</td>\n",
       "      <td>1398517.0</td>\n",
       "      <td>311764000.0</td>\n",
       "      <td>5235198.0</td>\n",
       "      <td>NaN</td>\n",
       "      <td>NaN</td>\n",
       "      <td>NaN</td>\n",
       "      <td>83925000.0</td>\n",
       "      <td>48521928.0</td>\n",
       "      <td>42667589.0</td>\n",
       "      <td>130322299.0</td>\n",
       "      <td>-7576788.0</td>\n",
       "      <td>26704229.0</td>\n",
       "      <td>NaN</td>\n",
       "      <td>NaN</td>\n",
       "      <td>309886585.0</td>\n",
       "      <td>434509511.0</td>\n",
       "    </tr>\n",
       "  </tbody>\n",
       "</table>\n",
       "</div>"
      ],
      "text/plain": [
       "            bonus  deferral_payments  deferred_income  director_fees  \\\n",
       "TOTAL  97343619.0         32083396.0      -27992891.0      1398517.0   \n",
       "\n",
       "       exercised_stock_options   expenses  from_messages  \\\n",
       "TOTAL              311764000.0  5235198.0            NaN   \n",
       "\n",
       "       from_poi_to_this_person  from_this_person_to_poi  loan_advances  \\\n",
       "TOTAL                      NaN                      NaN     83925000.0   \n",
       "\n",
       "       long_term_incentive       other  restricted_stock  \\\n",
       "TOTAL           48521928.0  42667589.0       130322299.0   \n",
       "\n",
       "       restricted_stock_deferred      salary  shared_receipt_with_poi  \\\n",
       "TOTAL                 -7576788.0  26704229.0                      NaN   \n",
       "\n",
       "       to_messages  total_payments  total_stock_value  \n",
       "TOTAL          NaN     309886585.0        434509511.0  "
      ]
     },
     "execution_count": 14,
     "metadata": {},
     "output_type": "execute_result"
    }
   ],
   "source": [
    "# there is a noticeable outlier here. What can this be?\n",
    "data_df[data_df['salary'] > 25000000]"
   ]
  },
  {
   "cell_type": "code",
   "execution_count": 15,
   "metadata": {
    "collapsed": false
   },
   "outputs": [
    {
     "data": {
      "text/plain": [
       "{'bonus': 97343619,\n",
       " 'deferral_payments': 32083396,\n",
       " 'deferred_income': -27992891,\n",
       " 'director_fees': 1398517,\n",
       " 'email_address': 'NaN',\n",
       " 'exercised_stock_options': 311764000,\n",
       " 'expenses': 5235198,\n",
       " 'from_messages': 'NaN',\n",
       " 'from_poi_to_this_person': 'NaN',\n",
       " 'from_this_person_to_poi': 'NaN',\n",
       " 'loan_advances': 83925000,\n",
       " 'long_term_incentive': 48521928,\n",
       " 'other': 42667589,\n",
       " 'poi': False,\n",
       " 'restricted_stock': 130322299,\n",
       " 'restricted_stock_deferred': -7576788,\n",
       " 'salary': 26704229,\n",
       " 'shared_receipt_with_poi': 'NaN',\n",
       " 'to_messages': 'NaN',\n",
       " 'total_payments': 309886585,\n",
       " 'total_stock_value': 434509511}"
      ]
     },
     "execution_count": 15,
     "metadata": {},
     "output_type": "execute_result"
    }
   ],
   "source": [
    "# this is the 'TOTAL' entry, which is a summation of all other observation values\n",
    "# let's get rid of this both from the dataframe and the original dictionary\n",
    "\n",
    "data_df = data_df[data_df['salary'] < 25000000]\n",
    "data_dict.pop('TOTAL')"
   ]
  },
  {
   "cell_type": "code",
   "execution_count": 16,
   "metadata": {
    "collapsed": false
   },
   "outputs": [
    {
     "data": {
      "image/png": "[encoded data removed]",
      "text/plain": [
       "<matplotlib.figure.Figure at 0x110e42a20>"
      ]
     },
     "metadata": {},
     "output_type": "display_data"
    },
    {
     "data": {
      "image/png": "[encoded data removed]",
      "text/plain": [
       "<matplotlib.figure.Figure at 0x110d65cc0>"
      ]
     },
     "metadata": {},
     "output_type": "display_data"
    }
   ],
   "source": [
    "# This huge outlier must have had some effect on the heatmap\n",
    "# let's plot the scatterplot and the heat map again\n",
    "\n",
    "# create scatterplot\n",
    "plt.scatter(data = data_df, x = 'salary', y = 'bonus')\n",
    "plt.show()\n",
    "\n",
    "# create heatmap\n",
    "mask = np.zeros_like(data_df.corr(), dtype=np.bool)\n",
    "mask[np.triu_indices_from(mask)] = True\n",
    "\n",
    "sns.heatmap(data_df.corr(), cmap = 'RdBu_r', mask = mask, alpha = 0.7)\n",
    "plt.show()"
   ]
  },
  {
   "cell_type": "code",
   "execution_count": 17,
   "metadata": {
    "collapsed": true
   },
   "outputs": [],
   "source": [
    "# we still see some noticeable values on the scatterplot,\n",
    "# but they are within an understanble range,\n",
    "# so let's not get rid of those datapoints\n",
    "\n",
    "# we can also see that the heatmap has changed a lot,\n",
    "# and that the financial variables are lot less correlated\n",
    "# with one another.\n",
    "# the only exception is 'loan_advances',\n",
    "# but this may be because without the 'TOTAL' observation,\n",
    "# there are now only 3 valid data points,\n",
    "# which is definitely not enough to conclude a meaningful correlation"
   ]
  },
  {
   "cell_type": "markdown",
   "metadata": {},
   "source": [
    "## Exploratory Data Analysis: Summary\n",
    "The dataset used for this project is a compilation of publicly available financial information of Enron employees and their email data. The raw dataset has 21 features (including the target variable 'poi') and 146 observations, of which 18 are identified as pois. \n",
    "\n",
    "A quick exploratory data analysis revealed that there were 2 outliers ('TOTAL', which added all the values, and 'THE TRAVEL AGENCY IN THE PARK', which is not an employee), which were removed. There were other notable datapoints too (Kenneth had total payments well over 100 million), but those were acceptable datapoints, considering that Kenneth was the CEO of the troubled company at the time.\n",
    "\n",
    "Other interesting observations included:\n",
    "1. Large amount of missing values for many variables (this will) affect the algorithm, tuning, and validation choices to come later\n",
    "2. 'loan_advances' seem to have strong correlation with most other financial variables. The enron insider payment pdf document explains the variable as \"Reflects total amount of loan advances, excluding repayments, provided by the Debtor in return for a promise of repayment. In certain instances, the terms of the promissory notes allow for the option to repay with stock of the company.\"\n",
    "This is very intersting, especially the last part, where there is an 'option to repay with stock of the company'. This means that people can have loans with an equally arbitary financial value (stock). This calls for problem. IF that stock is for some reason not changed to actual cash, then this means that people cannot even pay for the loan advances!!\n"
   ]
  },
  {
   "cell_type": "markdown",
   "metadata": {},
   "source": [
    "# 3. Feature selection & scaling"
   ]
  },
  {
   "cell_type": "markdown",
   "metadata": {},
   "source": [
    "## features in the dataset\n",
    "\n",
    "<strong>Financial Features</strong>\n",
    "\n",
    "['salary', 'deferral_payments', 'total_payments', 'loan_advances', 'bonus', 'restricted_stock_deferred', 'deferred_income', 'total_stock_value', 'expenses', 'exercised_stock_options', 'other', 'long_term_incentive', 'restricted_stock', 'director_fees'] (all units are in US dollars)\n",
    "\n",
    "<strong>Email features</strong>\n",
    "\n",
    "['to_messages', 'email_address', 'from_poi_to_this_person', 'from_messages', 'from_this_person_to_poi', 'shared_receipt_with_poi'] (units are generally number of emails messages; notable exception is ‘email_address’, which is a text string)\n",
    "\n",
    "<strong>POI</strong>\n",
    "\n",
    "boolean, represented as integer"
   ]
  },
  {
   "cell_type": "markdown",
   "metadata": {},
   "source": [
    "## creating new feature"
   ]
  },
  {
   "cell_type": "code",
   "execution_count": 18,
   "metadata": {
    "collapsed": false
   },
   "outputs": [
    {
     "data": {
      "text/plain": [
       "{'bonus': 600000,\n",
       " 'deferral_payments': 'NaN',\n",
       " 'deferred_income': 'NaN',\n",
       " 'director_fees': 'NaN',\n",
       " 'email_address': 'mark.metts@enron.com',\n",
       " 'exercised_stock_options': 'NaN',\n",
       " 'expenses': 94299,\n",
       " 'from_messages': 29,\n",
       " 'from_poi_to_this_person': 38,\n",
       " 'from_this_person_to_poi': 1,\n",
       " 'loan_advances': 'NaN',\n",
       " 'long_term_incentive': 'NaN',\n",
       " 'other': 1740,\n",
       " 'poi': False,\n",
       " 'restricted_stock': 585062,\n",
       " 'restricted_stock_deferred': 'NaN',\n",
       " 'salary': 365788,\n",
       " 'shared_receipt_with_poi': 702,\n",
       " 'stock_salary_proportion': 0.6153042015039175,\n",
       " 'to_messages': 807,\n",
       " 'total_payments': 1061827,\n",
       " 'total_stock_value': 585062}"
      ]
     },
     "execution_count": 18,
     "metadata": {},
     "output_type": "execute_result"
    }
   ],
   "source": [
    "# one thing I am interested in is the difference between stock value and actual salary.\n",
    "# my guess is that people with higher stock value to salary proportion\n",
    "# will have more interest in increasing the arbitary value of the company,\n",
    "# because they can benefit from the equally increased stock values.\n",
    "# As we have seen in the case of Kenneth Lay,\n",
    "# pois may have higher stock value proportion to 'hard cash' (salary or bonus),\n",
    "# because they benefit far more by increasing the face value of Enron\n",
    "\n",
    "# find stock proportion from the stock and salary total\n",
    "# if there is a NaN value for any of the two values, return NaN\n",
    "for i in data_dict:\n",
    "    emp = data_dict[i]\n",
    "    try:\n",
    "        emp['stock_salary_proportion'] = emp['total_stock_value'] / (emp['total_stock_value'] + emp['salary'])\n",
    "    except:\n",
    "        emp['stock_salary_proportion'] = 'NaN'\n",
    "        \n",
    "# check that new variable is added to the dictionary\n",
    "data_dict['METTS MARK']"
   ]
  },
  {
   "cell_type": "markdown",
   "metadata": {},
   "source": [
    "## Select best features"
   ]
  },
  {
   "cell_type": "code",
   "execution_count": 19,
   "metadata": {
    "collapsed": false
   },
   "outputs": [
    {
     "name": "stdout",
     "output_type": "stream",
     "text": [
      "There are 20 predictor variables.\n"
     ]
    }
   ],
   "source": [
    "features_list = ['poi', 'salary', 'deferral_payments', \n",
    "                 'total_payments', 'loan_advances', 'bonus', \n",
    "                 'restricted_stock_deferred', 'deferred_income', \n",
    "                 'total_stock_value', 'expenses', \n",
    "                 'exercised_stock_options', 'other', \n",
    "                 'long_term_incentive', 'restricted_stock', \n",
    "                 'director_fees','to_messages', \n",
    "                 'from_poi_to_this_person', 'from_messages', \n",
    "                 'from_this_person_to_poi', 'shared_receipt_with_poi',\n",
    "                 'stock_salary_proportion']\n",
    "\n",
    "print('There are {} predictor variables.'.format(len(features_list) - 1))"
   ]
  },
  {
   "cell_type": "markdown",
   "metadata": {},
   "source": [
    "There are too many predictor variables, and that may lead to overfitting, and slower processing time. We should limit our feature choices.\n",
    "\n",
    "There are two main ways to choose 'best' features.\n",
    "\n",
    "1. Use feature selection modules such as SelectKBest or SelectPercentile\n",
    "\n",
    "2. Use feature_importances_ method after fitting data to a model(e.g. RandomForest)\n",
    "\n",
    "The second method will give different points to different features depending on the classifier used, so while useful for testing out a single classifier, it's not approporiate to be used to select features to be tested out on multiple algorithms.\n",
    "\n",
    "Let's use SelectKBest module from sklearn."
   ]
  },
  {
   "cell_type": "code",
   "execution_count": 20,
   "metadata": {
    "collapsed": true
   },
   "outputs": [],
   "source": [
    "# create function to select k best features from a dataset\n",
    "\n",
    "def select_k_best(data_dict, features_list, k):\n",
    "    # import selectkbest module and f_classif for selector function\n",
    "    from sklearn.feature_selection import SelectKBest, f_classif\n",
    "    \n",
    "    # split target and data\n",
    "    data = featureFormat(data_dict, features_list)\n",
    "    target, features = targetFeatureSplit(data)\n",
    "    \n",
    "    # create selector and fit data\n",
    "    selector = SelectKBest(f_classif, k = k)\n",
    "    selector.fit(features, target)\n",
    "    \n",
    "    # get scores of individual features and group with feature name\n",
    "    scores = selector.scores_\n",
    "    feature_scores = zip(features_list[1:], scores)\n",
    "    \n",
    "    # list of features in order of score\n",
    "    scores_ordered = list(sorted(feature_scores, key = lambda x: x[1], reverse = True))\n",
    "    \n",
    "    # select k best features from the list\n",
    "    k_best = scores_ordered[:k]\n",
    "    \n",
    "    # print scores of k best features\n",
    "    print('scores of {} best features:\\n'.format(k))\n",
    "    for i in k_best:\n",
    "        print(i)\n",
    "        \n",
    "    # return list of best features\n",
    "    return [i[0] for i in k_best]"
   ]
  },
  {
   "cell_type": "code",
   "execution_count": 21,
   "metadata": {
    "collapsed": false
   },
   "outputs": [
    {
     "name": "stdout",
     "output_type": "stream",
     "text": [
      "scores of 7 best features:\n",
      "\n",
      "('exercised_stock_options', 24.815079733218194)\n",
      "('total_stock_value', 24.182898678566879)\n",
      "('bonus', 20.792252047181535)\n",
      "('salary', 18.289684043404513)\n",
      "('deferred_income', 11.458476579280369)\n",
      "('long_term_incentive', 9.9221860131898225)\n",
      "('restricted_stock', 9.2128106219771002)\n",
      "scores of 9 best features:\n",
      "\n",
      "('exercised_stock_options', 24.815079733218194)\n",
      "('total_stock_value', 24.182898678566879)\n",
      "('bonus', 20.792252047181535)\n",
      "('salary', 18.289684043404513)\n",
      "('deferred_income', 11.458476579280369)\n",
      "('long_term_incentive', 9.9221860131898225)\n",
      "('restricted_stock', 9.2128106219771002)\n",
      "('stock_salary_proportion', 9.1770495770120686)\n",
      "('total_payments', 8.7727777300916792)\n",
      "scores of 10 best features:\n",
      "\n",
      "('exercised_stock_options', 24.815079733218194)\n",
      "('total_stock_value', 24.182898678566879)\n",
      "('bonus', 20.792252047181535)\n",
      "('salary', 18.289684043404513)\n",
      "('deferred_income', 11.458476579280369)\n",
      "('long_term_incentive', 9.9221860131898225)\n",
      "('restricted_stock', 9.2128106219771002)\n",
      "('stock_salary_proportion', 9.1770495770120686)\n",
      "('total_payments', 8.7727777300916792)\n",
      "('shared_receipt_with_poi', 8.589420731682381)\n",
      "scores of 11 best features:\n",
      "\n",
      "('exercised_stock_options', 24.815079733218194)\n",
      "('total_stock_value', 24.182898678566879)\n",
      "('bonus', 20.792252047181535)\n",
      "('salary', 18.289684043404513)\n",
      "('deferred_income', 11.458476579280369)\n",
      "('long_term_incentive', 9.9221860131898225)\n",
      "('restricted_stock', 9.2128106219771002)\n",
      "('stock_salary_proportion', 9.1770495770120686)\n",
      "('total_payments', 8.7727777300916792)\n",
      "('shared_receipt_with_poi', 8.589420731682381)\n",
      "('loan_advances', 7.1840556582887247)\n",
      "scores of 12 best features:\n",
      "\n",
      "('exercised_stock_options', 24.815079733218194)\n",
      "('total_stock_value', 24.182898678566879)\n",
      "('bonus', 20.792252047181535)\n",
      "('salary', 18.289684043404513)\n",
      "('deferred_income', 11.458476579280369)\n",
      "('long_term_incentive', 9.9221860131898225)\n",
      "('restricted_stock', 9.2128106219771002)\n",
      "('stock_salary_proportion', 9.1770495770120686)\n",
      "('total_payments', 8.7727777300916792)\n",
      "('shared_receipt_with_poi', 8.589420731682381)\n",
      "('loan_advances', 7.1840556582887247)\n",
      "('expenses', 6.0941733106389453)\n",
      "scores of 13 best features:\n",
      "\n",
      "('exercised_stock_options', 24.815079733218194)\n",
      "('total_stock_value', 24.182898678566879)\n",
      "('bonus', 20.792252047181535)\n",
      "('salary', 18.289684043404513)\n",
      "('deferred_income', 11.458476579280369)\n",
      "('long_term_incentive', 9.9221860131898225)\n",
      "('restricted_stock', 9.2128106219771002)\n",
      "('stock_salary_proportion', 9.1770495770120686)\n",
      "('total_payments', 8.7727777300916792)\n",
      "('shared_receipt_with_poi', 8.589420731682381)\n",
      "('loan_advances', 7.1840556582887247)\n",
      "('expenses', 6.0941733106389453)\n",
      "('from_poi_to_this_person', 5.2434497133749582)\n"
     ]
    }
   ],
   "source": [
    "# create list of best features\n",
    "\n",
    "k_list = [7, 9, 10, 11, 12, 13]\n",
    "best_features = [select_k_best(data_dict, features_list, k) for k in k_list]"
   ]
  },
  {
   "cell_type": "code",
   "execution_count": 22,
   "metadata": {
    "collapsed": true
   },
   "outputs": [],
   "source": [
    "# create function to transform data dictionary to arrrays\n",
    "# and split features and target\n",
    "# note that when we use the select_k_best function,\n",
    "# we do not have 'poi' in the features_list,\n",
    "# so we would need to add poi to the beginning of the list\n",
    "\n",
    "def format_data(data_dict, features_list):\n",
    "    # add 'poi' to the beginning of the list if not in features_list\n",
    "    if 'poi' not in features_list:\n",
    "        features_list.insert(0, 'poi')\n",
    "    \n",
    "    data = featureFormat(data_dict, features_list)\n",
    "    target, features = targetFeatureSplit(data)\n",
    "    \n",
    "    return target, features\n",
    "\n",
    "# for now, let's use 7 features\n",
    "target, features = format_data(data_dict, best_features[0])"
   ]
  },
  {
   "cell_type": "code",
   "execution_count": 23,
   "metadata": {
    "collapsed": false
   },
   "outputs": [
    {
     "name": "stdout",
     "output_type": "stream",
     "text": [
      "There are 97 training points.\n",
      "There are 42 test points.\n"
     ]
    }
   ],
   "source": [
    "# split data into train and test set\n",
    "# I wasn't sure whether to split or scale the data first,\n",
    "# but some research indicates that splitting first is better\n",
    "# reference: https://stats.stackexchange.com/questions/95083/imputation-before-or-after-splitting-into-train-and-test\n",
    "# reference2: https://stats.stackexchange.com/questions/77350/perform-feature-normalization-before-or-within-model-validation\n",
    "\n",
    "# I used 70% for training\n",
    "# I originally wanted to allocate 80% for training,\n",
    "# but with such a small dataset, I thought that 70:30 is enough\n",
    "# in this case\n",
    "\n",
    "# import sklearn train_test_split module\n",
    "from sklearn.model_selection import train_test_split\n",
    "\n",
    "# split data into training 70 : test 30\n",
    "train_X, test_X, train_y, test_y = train_test_split(features, target,\n",
    "                                                   test_size = 0.3,\n",
    "                                                   random_state = 42)\n",
    "\n",
    "print('There are {} training points.'.format(len(train_X)))\n",
    "print('There are {} test points.'.format(len(test_X)))"
   ]
  },
  {
   "cell_type": "markdown",
   "metadata": {},
   "source": [
    "## Feature scaling"
   ]
  },
  {
   "cell_type": "code",
   "execution_count": 24,
   "metadata": {
    "collapsed": false
   },
   "outputs": [],
   "source": [
    "# financial have extremely large values,\n",
    "# which means that without scaling, these values will\n",
    "# have more weight in the machine learning process\n",
    "# let's use minmax scaler to scale features\n",
    "\n",
    "# import minmax scaler\n",
    "from sklearn.preprocessing import MinMaxScaler\n",
    "\n",
    "def scale_features(train_X, test_X):\n",
    "    # create minmaxscalerinstance\n",
    "    min_max_scaler = MinMaxScaler()\n",
    "    \n",
    "    # fit to training data and transform both train and test features\n",
    "    min_max_scaler.fit(train_X)\n",
    "    train_X = min_max_scaler.transform(train_X)\n",
    "    test_X = min_max_scaler.transform(test_X)\n",
    "    return train_X, test_X\n",
    "    \n",
    "train_X, test_X = scale_features(train_X, test_X)"
   ]
  },
  {
   "cell_type": "markdown",
   "metadata": {},
   "source": [
    "# 4. Machine Learning"
   ]
  },
  {
   "cell_type": "markdown",
   "metadata": {},
   "source": [
    "This is a binary classification task. This is also a supervised learning, because we know the outcome is either poi or not poi. There are several different algorithms we can use:\n",
    "\n",
    "1. Decision tree\n",
    "2. Naive Bayes(Gaussian)\n",
    "3. Support vector machine classifier\n",
    "4. Random forest classifier\n",
    "5. Adaboost classifier\n",
    "6. K nearest neigbors"
   ]
  },
  {
   "cell_type": "code",
   "execution_count": 25,
   "metadata": {
    "collapsed": false
   },
   "outputs": [
    {
     "name": "stdout",
     "output_type": "stream",
     "text": [
      "Decision tree \n",
      "\n",
      "           f1-score  precision  recall  support\n",
      "non-poi        0.86       0.86    0.86     36.0\n",
      "poi            0.17       0.17    0.17      6.0\n",
      "avg/total      0.76       0.76    0.76     42.0 \n",
      "\n",
      "Gaussian Naive Bayes \n",
      "\n",
      "           f1-score  precision  recall  support\n",
      "non-poi        0.95       0.90    1.00     36.0\n",
      "poi            0.50       1.00    0.33      6.0\n",
      "avg/total      0.88       0.91    0.90     42.0 \n",
      "\n",
      "SVC \n",
      "\n",
      "           f1-score  precision  recall  support\n",
      "non-poi        0.92       0.86    1.00     36.0\n",
      "poi            0.00       0.00    0.00      6.0\n",
      "avg/total      0.79       0.73    0.86     42.0 \n",
      "\n",
      "Random Forest \n",
      "\n",
      "           f1-score  precision  recall  support\n",
      "non-poi        0.92       0.86    1.00     36.0\n",
      "poi            0.00       0.00    0.00      6.0\n",
      "avg/total      0.79       0.73    0.86     42.0 \n",
      "\n",
      "AdaBoost \n",
      "\n",
      "           f1-score  precision  recall  support\n",
      "non-poi        0.89       0.89    0.89     36.0\n",
      "poi            0.33       0.33    0.33      6.0\n",
      "avg/total      0.81       0.81    0.81     42.0 \n",
      "\n",
      "KNN \n",
      "\n",
      "           f1-score  precision  recall  support\n",
      "non-poi        0.92       0.86    1.00     36.0\n",
      "poi            0.00       0.00    0.00      6.0\n",
      "avg/total      0.79       0.73    0.86     42.0 \n",
      "\n"
     ]
    },
    {
     "name": "stderr",
     "output_type": "stream",
     "text": [
      "/Users/jk6653284/anaconda/lib/python3.6/site-packages/sklearn/metrics/classification.py:1113: UndefinedMetricWarning: Precision and F-score are ill-defined and being set to 0.0 in labels with no predicted samples.\n",
      "  'precision', 'predicted', average, warn_for)\n",
      "/Users/jk6653284/anaconda/lib/python3.6/site-packages/sklearn/metrics/classification.py:1113: UndefinedMetricWarning: Precision and F-score are ill-defined and being set to 0.0 in labels with no predicted samples.\n",
      "  'precision', 'predicted', average, warn_for)\n",
      "/Users/jk6653284/anaconda/lib/python3.6/site-packages/sklearn/metrics/classification.py:1113: UndefinedMetricWarning: Precision and F-score are ill-defined and being set to 0.0 in labels with no predicted samples.\n",
      "  'precision', 'predicted', average, warn_for)\n"
     ]
    }
   ],
   "source": [
    "# import algorithms\n",
    "from sklearn.tree import DecisionTreeClassifier\n",
    "from sklearn.naive_bayes import GaussianNB\n",
    "from sklearn.svm import SVC\n",
    "from sklearn.ensemble import RandomForestClassifier, AdaBoostClassifier\n",
    "from sklearn.neighbors import KNeighborsClassifier\n",
    "from sklearn.metrics import classification_report\n",
    "\n",
    "# create function to create a dataframe from classification report\n",
    "# this makes it easier to view the report than just text data\n",
    "# reference: https://stackoverflow.com/questions/39662398/scikit-learn-output-metrics-classification-report-into-csv-tab-delimited-format\n",
    "\n",
    "def classification_report_to_df(report):\n",
    "    report_data = []\n",
    "    lines = report.split('\\n')\n",
    "    for line in lines[2:-3]:\n",
    "        row = {}\n",
    "        row_data = line.split('      ')\n",
    "        row['precision'] = float(row_data[2].strip())\n",
    "        row['recall'] = float(row_data[3].strip())\n",
    "        row['f1-score'] = float(row_data[4].strip())\n",
    "        row['support'] = float(row_data[5].strip())\n",
    "        report_data.append(row)\n",
    "        \n",
    "    result = lines[-2].split('      ')\n",
    "    result = [float(i.strip()) for i in result[1:]]\n",
    "    \n",
    "    df_test = pd.DataFrame.from_dict(report_data)\n",
    "    df_test = df_test.append(pd.DataFrame([result],\n",
    "                                        columns = ['precision','recall','f1-score','support']),\n",
    "                           ignore_index = True)\n",
    "    df_test.index = ['non-poi', 'poi', 'avg/total']\n",
    "    \n",
    "    return df_test\n",
    "\n",
    "classifier_name = ['Decision tree', 'Gaussian Naive Bayes',\n",
    "                   'SVC', 'Random Forest', 'AdaBoost','KNN']\n",
    "classifier = [DecisionTreeClassifier(),\n",
    "             GaussianNB(),\n",
    "             SVC(),\n",
    "             RandomForestClassifier(),\n",
    "             AdaBoostClassifier(),\n",
    "             KNeighborsClassifier()]\n",
    "\n",
    "# create function to test modules with data and return classification report\n",
    "def get_scores(train_X, test_X, train_y, test_y, \n",
    "               classifier_list, classifier_names):\n",
    "    \n",
    "    for i, model in enumerate(classifier):\n",
    "        clf = classifier[i]\n",
    "        clf.fit(train_X, train_y)\n",
    "        pred = clf.predict(test_X)\n",
    "        report = classification_report(test_y, pred)\n",
    "        report_df = classification_report_to_df(report)\n",
    "        print(classifier_names[i],'\\n')\n",
    "        print(report_df, '\\n')\n",
    "\n",
    "get_scores(train_X, test_X, train_y, test_y,\n",
    "          classifier, classifier_name)"
   ]
  },
  {
   "cell_type": "markdown",
   "metadata": {},
   "source": [
    "from the scores alone, it seems that overall, the Gaussian NB has the highest precision and rcall score overall. Interestingly enough, while the other models have a higher recall score, both Decision Tree and NB have slightly higher precision score.\n",
    "\n",
    "Bearing this in mind, I must decide which evaluation metric is more important in this case. Thus, it is important to understand what each metric means for this case.\n",
    "\n",
    "Precision measures how many of the classifications predicted as positive were truly positive. A lower score means that there are a lot of false positives in the prediction pool. In this case, a lower score means that innocent people are classified as 'poi's.\n",
    "\n",
    "Recall, on the other hand, measures how many pois were identified from all the actual pois. A lower score means that the model cannot identify a poi from the people. Thus, a model with a low recall score has a high potential of letting go of actual poi's.\n",
    "\n",
    "In my opinion, a higher recall score is more important in this case. Being one of the largest financial fraud in the history and affecting hundreds of innocent employees and the economy in general, it is critical that those responsible are convicted rightfully. In the process, we may be selecting a model in expense of possibly accusing innocent employees as pois. However, it is better safe than sorry, and the poi identification result of a machine learning is just preliminary step to catch the real culprits. Further investigations based on this result will certainly reveal innocent employees. For now, selecting a model that will capture all possible suspects is the priority."
   ]
  },
  {
   "cell_type": "markdown",
   "metadata": {},
   "source": [
    "## Parameter tuning"
   ]
  },
  {
   "cell_type": "code",
   "execution_count": 26,
   "metadata": {
    "collapsed": false
   },
   "outputs": [],
   "source": [
    "# let's see if we can tweak the parameters for the algorithms\n",
    "# and increase the scores\n",
    "# we are going to use the GridSearchCV module to test find the best parameters\n",
    "# and use the StratifiedShuffleSplit module to cross-validate the model\n",
    "\n",
    "# import GridSearchCV and StratifiedShuffleSplit\n",
    "from sklearn.model_selection import GridSearchCV, StratifiedShuffleSplit\n",
    "\n",
    "# define scoring method\n",
    "# import precison score, recall, and f1 score\n",
    "from sklearn.metrics import precision_score, recall_score, f1_score\n",
    "\n",
    "# function that only returns f1 IF both the precision and the recall scores are above 0.3\n",
    "# the lower threshold\n",
    "def scoring(estimator, features_test, labels_test):\n",
    "    labels_pred = estimator.predict(features_test)\n",
    "    p = precision_score(labels_test, labels_pred, average='micro')\n",
    "    r = recall_score(labels_test, labels_pred, average='micro')\n",
    "    if p > 0.3 and r > 0.3:\n",
    "        return f1_score(labels_test, labels_pred, average='macro')\n",
    "    return 0\n",
    "\n",
    "\n",
    "\n",
    "# reference for rf parameter tuning: https://www.analyticsvidhya.com/blog/2015/06/tuning-random-forest-model/\n",
    "# reference for rf parameter tuning: https://www.hackerearth.com/practice/machine-learning/machine-learning-algorithms/tutorial-random-forest-parameter-tuning-r/tutorial/\n",
    "\n",
    "\n",
    "# define parameters\n",
    "param_dt = {'max_features': [3,4,5],\n",
    "           'criterion': ('gini', 'entropy'),\n",
    "           'max_depth': [1,2,3,4,5,6],\n",
    "           'min_samples_split': [2,3],\n",
    "           'min_samples_leaf': [1,2,3,4,5]}\n",
    "param_rf = {'max_features': [3,4,5],\n",
    "           'criterion': ('gini', 'entropy'),\n",
    "           'min_samples_leaf': [1,2,3,4,5],\n",
    "           'n_estimators': [10,50,100,500]}\n",
    "param_ada = {'n_estimators': [10,50,100,500],\n",
    "            'algorithm': ('SAMME','SAMME.R'),\n",
    "            'learning_rate': [0.05, 0.1, 1.0] }\n",
    "param_svc = {'C': [1,10,100,1000],\n",
    "             'gamma': [0.001, 0.0001]}\n",
    "param_knn = {'n_neighbors': [3, 5, 7, 9],\n",
    "            'weights': ('uniform', 'distance'),\n",
    "            'metric': ('minkowski','euclidean'),\n",
    "            'algorithm': ('auto', 'ball_tree', 'kd_tree', 'brute')}\n",
    "param_nb = {}\n",
    "\n",
    "params = []\n",
    "params.append(param_dt)\n",
    "params.append(param_rf)\n",
    "params.append(param_ada)\n",
    "params.append(param_svc)\n",
    "params.append(param_knn)\n",
    "params.append(param_nb)\n",
    "\n",
    "# define classifiers\n",
    "classifier_name = ['Decision tree', 'Random Forest', \n",
    "                   'AdaBoost','SVC','KNN','Gaussian Naive Bayes' ]\n",
    "classifier = [DecisionTreeClassifier(),\n",
    "              RandomForestClassifier(),\n",
    "              AdaBoostClassifier(),\n",
    "              SVC(kernel = 'rbf'),\n",
    "              KNeighborsClassifier(),\n",
    "              GaussianNB()]\n",
    "\n",
    "# create function to find the best estimator for an algorithm\n",
    "# and retunrs that estimator\n",
    "def find_best_estim(classifier, classifier_name, \n",
    "                    param, scoring, features, target):\n",
    "    # create StratifiedShuffleSplit instance\n",
    "    cv = StratifiedShuffleSplit(n_splits = 10, test_size = 0.1,\n",
    "                               random_state = 42)\n",
    "    \n",
    "    # scale features\n",
    "    min_max_scaler = MinMaxScaler()\n",
    "    features = min_max_scaler.fit_transform(features)\n",
    "    \n",
    "    # create grid and fit data\n",
    "    t0 = time()\n",
    "    clf = classifier\n",
    "    \n",
    "    grid = GridSearchCV(clf, param, cv=cv, scoring=scoring)\n",
    "    grid.fit(features, target)\n",
    "    \n",
    "    print(classifier_name)\n",
    "    print('time taken to process grid: {}'.format(time() - t0))\n",
    "    print('best parameters: {}'.format(grid.best_params_))\n",
    "    print('best score: {}'.format(grid.best_score_))\n",
    "    \n",
    "    return grid.best_estimator_\n",
    "\n",
    "# import warnings to module to ignore the warnings\n",
    "import warnings\n",
    "warnings.filterwarnings('ignore')"
   ]
  },
  {
   "cell_type": "code",
   "execution_count": 27,
   "metadata": {
    "collapsed": false
   },
   "outputs": [],
   "source": [
    "# let's try with different number of features\n",
    "\n",
    "# find target and features for each number of features\n",
    "target7, features7 = format_data(data_dict, best_features[0])\n",
    "target9, features9 = format_data(data_dict, best_features[1])\n",
    "target10, features10 = format_data(data_dict, best_features[2])\n",
    "target11, features11 = format_data(data_dict, best_features[3])\n",
    "target12, features12 = format_data(data_dict, best_features[4])\n",
    "target13, features13 = format_data(data_dict, best_features[5])"
   ]
  },
  {
   "cell_type": "code",
   "execution_count": 78,
   "metadata": {
    "collapsed": false
   },
   "outputs": [
    {
     "name": "stdout",
     "output_type": "stream",
     "text": [
      "Decision tree\n",
      "time taken to process grid: 13.836421251296997\n",
      "best parameters: {'criterion': 'gini', 'max_depth': 5, 'max_features': 4, 'min_samples_leaf': 1, 'min_samples_split': 2}\n",
      "best score: 0.6533293807641635\n",
      "Random Forest\n",
      "time taken to process grid: 264.1563370227814\n",
      "best parameters: {'criterion': 'gini', 'max_features': 3, 'min_samples_leaf': 1, 'n_estimators': 10}\n",
      "best score: 0.6511666666666667\n",
      "AdaBoost\n",
      "time taken to process grid: 54.565468311309814\n",
      "best parameters: {'algorithm': 'SAMME.R', 'learning_rate': 0.05, 'n_estimators': 10}\n",
      "best score: 0.5957948717948717\n",
      "SVC\n",
      "time taken to process grid: 0.3277440071105957\n",
      "best parameters: {'C': 1000, 'gamma': 0.001}\n",
      "best score: 0.49456410256410255\n",
      "KNN\n",
      "time taken to process grid: 2.967392921447754\n",
      "best parameters: {'algorithm': 'auto', 'metric': 'minkowski', 'n_neighbors': 7, 'weights': 'uniform'}\n",
      "best score: 0.4615384615384615\n",
      "Gaussian Naive Bayes\n",
      "time taken to process grid: 0.037918806076049805\n",
      "best parameters: {}\n",
      "best score: 0.608853096179183\n"
     ]
    }
   ],
   "source": [
    "best_estimators_7 = []\n",
    "\n",
    "for i, model in enumerate(classifier):\n",
    "    best_estimators_7.append(find_best_estim(model, classifier_name[i], params[i],\n",
    "                                          scoring, features7, target7))\n"
   ]
  },
  {
   "cell_type": "code",
   "execution_count": 79,
   "metadata": {
    "collapsed": false
   },
   "outputs": [
    {
     "name": "stdout",
     "output_type": "stream",
     "text": [
      "Decision tree\n",
      "time taken to process grid: 13.837580919265747\n",
      "best parameters: {'criterion': 'gini', 'max_depth': 6, 'max_features': 5, 'min_samples_leaf': 2, 'min_samples_split': 2}\n",
      "best score: 0.6951566951566952\n",
      "Random Forest\n",
      "time taken to process grid: 265.5463421344757\n",
      "best parameters: {'criterion': 'entropy', 'max_features': 3, 'min_samples_leaf': 3, 'n_estimators': 10}\n",
      "best score: 0.6395502645502644\n",
      "AdaBoost\n",
      "time taken to process grid: 54.3379111289978\n",
      "best parameters: {'algorithm': 'SAMME.R', 'learning_rate': 1.0, 'n_estimators': 50}\n",
      "best score: 0.6743304843304844\n",
      "SVC\n",
      "time taken to process grid: 0.3517019748687744\n",
      "best parameters: {'C': 1, 'gamma': 0.001}\n",
      "best score: 0.46428571428571425\n",
      "KNN\n",
      "time taken to process grid: 3.039900302886963\n",
      "best parameters: {'algorithm': 'auto', 'metric': 'minkowski', 'n_neighbors': 5, 'weights': 'uniform'}\n",
      "best score: 0.49735449735449727\n",
      "Gaussian Naive Bayes\n",
      "time taken to process grid: 0.04219508171081543\n",
      "best parameters: {}\n",
      "best score: 0.7018787138787139\n"
     ]
    }
   ],
   "source": [
    "best_estimators_9 = []\n",
    "\n",
    "for i, model in enumerate(classifier):\n",
    "    best_estimators_9.append(find_best_estim(model, classifier_name[i], params[i],\n",
    "                                          scoring, features9, target9))"
   ]
  },
  {
   "cell_type": "code",
   "execution_count": 80,
   "metadata": {
    "collapsed": false
   },
   "outputs": [
    {
     "name": "stdout",
     "output_type": "stream",
     "text": [
      "Decision tree\n",
      "time taken to process grid: 13.442389965057373\n",
      "best parameters: {'criterion': 'entropy', 'max_depth': 6, 'max_features': 3, 'min_samples_leaf': 5, 'min_samples_split': 3}\n",
      "best score: 0.7765000000000001\n",
      "Random Forest\n",
      "time taken to process grid: 256.31263518333435\n",
      "best parameters: {'criterion': 'gini', 'max_features': 5, 'min_samples_leaf': 1, 'n_estimators': 10}\n",
      "best score: 0.6541005291005291\n",
      "AdaBoost\n",
      "time taken to process grid: 54.222532987594604\n",
      "best parameters: {'algorithm': 'SAMME.R', 'learning_rate': 1.0, 'n_estimators': 100}\n",
      "best score: 0.6684354904354903\n",
      "SVC\n",
      "time taken to process grid: 0.37912797927856445\n",
      "best parameters: {'C': 1, 'gamma': 0.001}\n",
      "best score: 0.46428571428571425\n",
      "KNN\n",
      "time taken to process grid: 3.0739550590515137\n",
      "best parameters: {'algorithm': 'auto', 'metric': 'minkowski', 'n_neighbors': 3, 'weights': 'uniform'}\n",
      "best score: 0.4933862433862434\n",
      "Gaussian Naive Bayes\n",
      "time taken to process grid: 0.05191802978515625\n",
      "best parameters: {}\n",
      "best score: 0.6997419617419618\n"
     ]
    }
   ],
   "source": [
    "best_estimators_10 = []\n",
    "\n",
    "for i, model in enumerate(classifier):\n",
    "    best_estimators_10.append(find_best_estim(model, classifier_name[i], params[i],\n",
    "                                          scoring, features10, target10))"
   ]
  },
  {
   "cell_type": "code",
   "execution_count": 82,
   "metadata": {
    "collapsed": false
   },
   "outputs": [
    {
     "name": "stdout",
     "output_type": "stream",
     "text": [
      "Decision tree\n",
      "time taken to process grid: 14.008370876312256\n",
      "best parameters: {'criterion': 'gini', 'max_depth': 6, 'max_features': 4, 'min_samples_leaf': 3, 'min_samples_split': 2}\n",
      "best score: 0.6985907610907612\n",
      "Random Forest\n",
      "time taken to process grid: 301.1607701778412\n",
      "best parameters: {'criterion': 'gini', 'max_features': 4, 'min_samples_leaf': 2, 'n_estimators': 10}\n",
      "best score: 0.6603072853072853\n",
      "AdaBoost\n",
      "time taken to process grid: 63.76996898651123\n",
      "best parameters: {'algorithm': 'SAMME.R', 'learning_rate': 1.0, 'n_estimators': 100}\n",
      "best score: 0.6705722425722425\n",
      "SVC\n",
      "time taken to process grid: 0.31575989723205566\n",
      "best parameters: {'C': 1, 'gamma': 0.001}\n",
      "best score: 0.46428571428571425\n",
      "KNN\n",
      "time taken to process grid: 2.8885529041290283\n",
      "best parameters: {'algorithm': 'auto', 'metric': 'minkowski', 'n_neighbors': 3, 'weights': 'uniform'}\n",
      "best score: 0.4933862433862434\n",
      "Gaussian Naive Bayes\n",
      "time taken to process grid: 0.0414731502532959\n",
      "best parameters: {}\n",
      "best score: 0.6812608687608688\n"
     ]
    }
   ],
   "source": [
    "best_estimators_11 = []\n",
    "\n",
    "for i, model in enumerate(classifier):\n",
    "    best_estimators_11.append(find_best_estim(model, classifier_name[i], params[i],\n",
    "                                          scoring, features11, target11))"
   ]
  },
  {
   "cell_type": "code",
   "execution_count": 83,
   "metadata": {
    "collapsed": false
   },
   "outputs": [
    {
     "name": "stdout",
     "output_type": "stream",
     "text": [
      "Decision tree\n",
      "time taken to process grid: 13.29436707496643\n",
      "best parameters: {'criterion': 'entropy', 'max_depth': 4, 'max_features': 5, 'min_samples_leaf': 2, 'min_samples_split': 2}\n",
      "best score: 0.7199328449328448\n",
      "Random Forest\n",
      "time taken to process grid: 271.99715089797974\n",
      "best parameters: {'criterion': 'entropy', 'max_features': 3, 'min_samples_leaf': 2, 'n_estimators': 10}\n",
      "best score: 0.6375661375661376\n",
      "AdaBoost\n",
      "time taken to process grid: 66.26233196258545\n",
      "best parameters: {'algorithm': 'SAMME.R', 'learning_rate': 1.0, 'n_estimators': 100}\n",
      "best score: 0.7130907610907612\n",
      "SVC\n",
      "time taken to process grid: 0.4065589904785156\n",
      "best parameters: {'C': 1, 'gamma': 0.001}\n",
      "best score: 0.46428571428571425\n",
      "KNN\n",
      "time taken to process grid: 3.7389659881591797\n",
      "best parameters: {'algorithm': 'auto', 'metric': 'minkowski', 'n_neighbors': 3, 'weights': 'uniform'}\n",
      "best score: 0.4705250305250306\n",
      "Gaussian Naive Bayes\n",
      "time taken to process grid: 0.06872415542602539\n",
      "best parameters: {}\n",
      "best score: 0.6812608687608688\n"
     ]
    }
   ],
   "source": [
    "best_estimators_12 = []\n",
    "\n",
    "for i, model in enumerate(classifier):\n",
    "    best_estimators_12.append(find_best_estim(model, classifier_name[i], params[i],\n",
    "                                          scoring, features12, target12))"
   ]
  },
  {
   "cell_type": "code",
   "execution_count": 84,
   "metadata": {
    "collapsed": false
   },
   "outputs": [
    {
     "name": "stdout",
     "output_type": "stream",
     "text": [
      "Decision tree\n",
      "time taken to process grid: 13.55265998840332\n",
      "best parameters: {'criterion': 'gini', 'max_depth': 5, 'max_features': 5, 'min_samples_leaf': 2, 'min_samples_split': 3}\n",
      "best score: 0.7663504273504274\n",
      "Random Forest\n",
      "time taken to process grid: 254.51702404022217\n",
      "best parameters: {'criterion': 'gini', 'max_features': 3, 'min_samples_leaf': 2, 'n_estimators': 10}\n",
      "best score: 0.6642755392755392\n",
      "AdaBoost\n",
      "time taken to process grid: 54.298818826675415\n",
      "best parameters: {'algorithm': 'SAMME.R', 'learning_rate': 1.0, 'n_estimators': 100}\n",
      "best score: 0.7528490028490029\n",
      "SVC\n",
      "time taken to process grid: 0.3325381278991699\n",
      "best parameters: {'C': 1, 'gamma': 0.001}\n",
      "best score: 0.46428571428571425\n",
      "KNN\n",
      "time taken to process grid: 2.9842889308929443\n",
      "best parameters: {'algorithm': 'auto', 'metric': 'minkowski', 'n_neighbors': 3, 'weights': 'uniform'}\n",
      "best score: 0.4703724053724054\n",
      "Gaussian Naive Bayes\n",
      "time taken to process grid: 0.040495872497558594\n",
      "best parameters: {}\n",
      "best score: 0.6791241166241166\n"
     ]
    }
   ],
   "source": [
    "best_estimators_13 = []\n",
    "\n",
    "for i, model in enumerate(classifier):\n",
    "    best_estimators_13.append(find_best_estim(model, classifier_name[i], params[i],\n",
    "                                          scoring, features13, target13))"
   ]
  },
  {
   "cell_type": "code",
   "execution_count": 93,
   "metadata": {
    "collapsed": false
   },
   "outputs": [
    {
     "name": "stdout",
     "output_type": "stream",
     "text": [
      "Best Decision Tree parameters: {'criterion': 'gini', 'max_depth': 9, 'max_features': 4, 'min_samples_leaf': 1, 'min_samples_split': 3}\n",
      "Best score: 0.7341524216524217\n",
      "processing time: 141.49505400657654\n"
     ]
    }
   ],
   "source": [
    "# I decided to see in more detail only the classifiers that had more than 0.7 f1 socre"
   ]
  },
  {
   "cell_type": "code",
   "execution_count": 97,
   "metadata": {
    "collapsed": false
   },
   "outputs": [
    {
     "name": "stdout",
     "output_type": "stream",
     "text": [
      "DecisionTreeClassifier(class_weight=None, criterion='entropy', max_depth=6,\n",
      "            max_features=3, max_leaf_nodes=None, min_impurity_split=1e-07,\n",
      "            min_samples_leaf=5, min_samples_split=3,\n",
      "            min_weight_fraction_leaf=0.0, presort=False, random_state=None,\n",
      "            splitter='best')\n",
      "\tAccuracy: 0.82587\tPrecision: 0.27794\tRecall: 0.19150\tF1: 0.22676\tF2: 0.20420\n",
      "\tTotal predictions: 15000\tTrue positives:  383\tFalse positives:  995\tFalse negatives: 1617\tTrue negatives: 12005\n",
      "\n"
     ]
    }
   ],
   "source": [
    "sys.path.append('ud120-projects/final_project')\n",
    "from tester import test_classifier\n",
    "\n",
    "test_classifier(best_estimators_10[0], data_dict, best_features[2], folds = 1000)"
   ]
  },
  {
   "cell_type": "code",
   "execution_count": 95,
   "metadata": {
    "collapsed": false
   },
   "outputs": [
    {
     "name": "stdout",
     "output_type": "stream",
     "text": [
      "AdaBoostClassifier(algorithm='SAMME.R', base_estimator=None,\n",
      "          learning_rate=1.0, n_estimators=100, random_state=None)\n",
      "\tAccuracy: 0.83667\tPrecision: 0.35158\tRecall: 0.26650\tF1: 0.30319\tF2: 0.28005\n",
      "\tTotal predictions: 15000\tTrue positives:  533\tFalse positives:  983\tFalse negatives: 1467\tTrue negatives: 12017\n",
      "\n"
     ]
    }
   ],
   "source": [
    "test_classifier(best_estimators_13[2], data_dict, best_features[5], folds = 1000)"
   ]
  },
  {
   "cell_type": "code",
   "execution_count": 98,
   "metadata": {
    "collapsed": false
   },
   "outputs": [
    {
     "name": "stdout",
     "output_type": "stream",
     "text": [
      "GaussianNB(priors=None)\n",
      "\tAccuracy: 0.84100\tPrecision: 0.38355\tRecall: 0.31700\tF1: 0.34711\tF2: 0.32840\n",
      "\tTotal predictions: 15000\tTrue positives:  634\tFalse positives: 1019\tFalse negatives: 1366\tTrue negatives: 11981\n",
      "\n"
     ]
    }
   ],
   "source": [
    "test_classifier(best_estimators_9[5], data_dict, best_features[1], folds = 1000)"
   ]
  },
  {
   "cell_type": "code",
   "execution_count": 28,
   "metadata": {
    "collapsed": true
   },
   "outputs": [],
   "source": [
    "# In the end, I chose the GaussianNB with 9 features. This was certainly a surprise,\n",
    "# because even without the parameter tuned, it still showed decent recall and precision scores."
   ]
  }
 ],
 "metadata": {
  "kernelspec": {
   "display_name": "Python 3",
   "language": "python",
   "name": "python3"
  },
  "language_info": {
   "codemirror_mode": {
    "name": "ipython",
    "version": 3
   },
   "file_extension": ".py",
   "mimetype": "text/x-python",
   "name": "python",
   "nbconvert_exporter": "python",
   "pygments_lexer": "ipython3",
   "version": "3.6.0"
  }
 },
 "nbformat": 4,
 "nbformat_minor": 2
}
